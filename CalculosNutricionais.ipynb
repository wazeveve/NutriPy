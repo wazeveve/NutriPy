{
  "nbformat": 4,
  "nbformat_minor": 0,
  "metadata": {
    "colab": {
      "provenance": []
    },
    "kernelspec": {
      "name": "python3",
      "display_name": "Python 3"
    },
    "language_info": {
      "name": "python"
    }
  },
  "cells": [
    {
      "cell_type": "code",
      "execution_count": null,
      "metadata": {
        "id": "gykwUWDt0j97"
      },
      "outputs": [],
      "source": [
        "## Aplicação para cálculos nutricionais para acompanhamento de metas, baseado na aplicacao de Sistemas Especialistas ja desenvolvido\n",
        "## em outro Repositorio\n",
        "peso,altura,idade,genero,TMB,gastoCalorico,gastoCaloricoObjetivo = 0,0,0,'',0,0,0\n",
        "\n",
        "def calculaTMB():\n",
        "  peso = float(input(\"Digite seu peso em kg: \"))\n",
        "  altura = float(input(\"Digite sua altura em cm: \"))\n",
        "  idade = int(input(\"Digite sua idade em anos: \"))\n",
        "  genero = input(\"Digite seu genero(F ou M): \")\n",
        "  TMB = 0\n",
        "  if (genero.lower() == 'f'):\n",
        "    TMB = 655.1 + (9.53 * peso) + (1.85 * altura) - (4.67 * idade)\n",
        "  elif (genero.lower() == 'm'):\n",
        "    TMB = 66.5 + (13.75 * peso) + (5.003 * altura) - (6.775 * idade)\n",
        "  else :\n",
        "    print('Digite o genero novamente')\n",
        "    return calculaTMB()\n",
        "  print(f'Seu TMB é de: {TMB}')\n",
        "  return TMB\n",
        "\n",
        "def calculoGastoCaloricoAtual(TMB):\n",
        "  nivelAtividade = input(\"Digite seu nivel de atividade(Nenhum,Baixo, Medio ou Alto): \")\n",
        "  gastoCalorico = 0\n",
        "\n",
        "  if (nivelAtividade.lower() == \"nenhum\"):\n",
        "    gastoCalorico = TMB * 1.2\n",
        "  elif (nivelAtividade.lower() == \"baixo\"):\n",
        "    gastoCalorico = TMB * 1.375\n",
        "  elif (nivelAtividade.lower() == \"medio\"):\n",
        "    gastoCalorico = TMB * 1.55\n",
        "  elif (nivelAtividade.lower() == \"alto\"):\n",
        "    gastoCalorico = TMB * 1.725\n",
        "  else:\n",
        "    print('Digite o nivel de atividade novamente')\n",
        "    return calculoGastoCaloricoAtual(TMB)\n",
        "\n",
        "  print(f'Seu gasto calórico atual é de: {gastoCalorico}')\n",
        "  return gastoCalorico\n",
        "\n",
        "def calculoGastoCaloricoObjetivo(gastoCalorico):\n",
        "  objetivo = input(\"Digite seu objetivo(Emagrecer, Manter ou Ganhar Peso): \")\n",
        "  gastoCaloricoObjetivo = gastoCalorico\n",
        "  if (objetivo.lower() == \"emagrecer\"):\n",
        "    gastoCaloricoObjetivo = gastoCalorico - 500\n",
        "  elif (objetivo.lower() == \"manter\"):\n",
        "    gastoCaloricoObjetivo = gastoCalorico\n",
        "  elif (objetivo.lower == \"ganhar Peso\"):\n",
        "    gastoCaloricoObjetivo = gastoCalorico + 500\n",
        "  else:\n",
        "    print('Digite o objetivo novamente')\n",
        "    return calculoGastoCaloricoObjetivo(gastoCalorico)\n",
        "\n",
        "  print(f'Seu gasto calórico objetivo é de: {gastoCaloricoObjetivo}')\n",
        "  return gastoCaloricoObjetivo\n",
        "\n",
        "TMB = calculaTMB()\n",
        "gastoCalorico = calculoGastoCaloricoAtual(TMB)\n",
        "calculoGastoCaloricoObjetivo(gastoCalorico)\n"
      ]
    }
  ]
}